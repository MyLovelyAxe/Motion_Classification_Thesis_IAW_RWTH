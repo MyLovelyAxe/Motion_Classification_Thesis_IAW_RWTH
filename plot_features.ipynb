{
 "cells": [
  {
   "cell_type": "code",
   "execution_count": 1,
   "metadata": {},
   "outputs": [],
   "source": [
    "from dataloader.ML_dataloader import DynamicData"
   ]
  },
  {
   "cell_type": "code",
   "execution_count": 2,
   "metadata": {},
   "outputs": [
    {
     "name": "stdout",
     "output_type": "stream",
     "text": [
      "loaded original x_data shape: (19170, 100)\n",
      "loaded original y_data shape: (19170,)\n",
      "\n",
      "how many zeros are there in x_data? 0\n",
      "x_data with window has shape: (16920, 250, 100)\n",
      "y_data with window has shape: (16920,)\n",
      "\n"
     ]
    },
    {
     "name": "stderr",
     "output_type": "stream",
     "text": [
      "/home/hardli/IAW/Motion_Classification_Thesis_IAW_RWTH/util/features.py:253: RuntimeWarning: Precision loss occurred in moment calculation due to catastrophic cancellation. This occurs when the data are nearly identical. Results may be unreliable.\n",
      "  Kurtosis = kurtosis(data,axis=1)\n"
     ]
    },
    {
     "name": "stdout",
     "output_type": "stream",
     "text": [
      "These windows is Nan in Kurtosis: \n",
      "(array([    0,     0,     0, ..., 16919, 16919, 16919]), array([26, 29, 56, ..., 70, 84, 90]))\n"
     ]
    },
    {
     "name": "stderr",
     "output_type": "stream",
     "text": [
      "/home/hardli/IAW/Motion_Classification_Thesis_IAW_RWTH/util/features.py:269: RuntimeWarning: Precision loss occurred in moment calculation due to catastrophic cancellation. This occurs when the data are nearly identical. Results may be unreliable.\n",
      "  Skewness = skew(data,axis=1)\n"
     ]
    },
    {
     "name": "stdout",
     "output_type": "stream",
     "text": [
      "There is Nan in Skewness\n",
      "x_data with window features has shape: (16920, 700)\n",
      "y_data with window features has shape: (16920,)\n",
      "\n"
     ]
    }
   ],
   "source": [
    "dd = DynamicData(window_size=250,\n",
    "                train_len=2000,\n",
    "                test_len=20,\n",
    "                trainset_path=['dataset/dynamic_dataset/x_data_UpperLowerBody.npy',\n",
    "                                'dataset/dynamic_dataset/y_data_UpperLowerBody.npy'],\n",
    "                testset_path=None,\n",
    "                trial=True)"
   ]
  },
  {
   "cell_type": "markdown",
   "metadata": {},
   "source": [
    "## Usage"
   ]
  },
  {
   "cell_type": "markdown",
   "metadata": {},
   "source": [
    "#### 1 Select the activities to plot\n",
    "\n",
    "The activities to be selected are:\n",
    "\n",
    "| label | Abbreviation | Description |\n",
    "|-------|--------------|-------------|\n",
    "|1| Walking | Walking |\n",
    "|2| Jumping | Jumping |\n",
    "|3| Squating | Squating |\n",
    "|4| Waving | Waving |\n",
    "|5| Reaching | Reaching out for a cup |\n",
    "|6| Drinking | Drinking from a cup |\n",
    "|7| Boxing | Reaching out left and right arms alternatively |\n",
    "|8| Bicep | Bicep curl |\n",
    "|9| JumpJack | Jumping jack |"
   ]
  },
  {
   "cell_type": "markdown",
   "metadata": {},
   "source": [
    "#### 2 Select the features to plot\n",
    "\n",
    "The features to be selected are:\n",
    "\n",
    "| Distance |  |  |  |\n",
    "|--|--|--|--|\n",
    "| dist_LHandEnd_head | dist_LWrist_head | dist_LElbow_head | dist_LShoulder_head |\n",
    "| dist_RHandEnd_head | dist_RWrist_head | dist_RElbow_head | dist_RShoulder_head |\n",
    "| dist_LHandEnd_spine5 | dist_LWrist_spine5 | dist_LElbow_spine5 | dist_LShoulder_spine5 |\n",
    "| dist_RHandEnd_spine5 | dist_RWrist_spine5 | dist_RElbow_spine5 | dist_RShoulder_spine5 |\n",
    "| dist_LHandEnd_spine4 | dist_LWrist_spine4 | dist_LElbow_spine4 | dist_LShoulder_spine4 |\n",
    "| dist_RHandEnd_spine4 | dist_RWrist_spine4 | dist_RElbow_spine4 | dist_RShoulder_spine4 |\n",
    "| dist_LAnkle_spine1 | dist_LKnee_spine1 | dist_LHip_spine1 | |\n",
    "| dist_RAnkle_spine1 | dist_RKnee_spine1 | dist_RHip_spine1 | |\n",
    "\n",
    "| Ratio of Change of Distance |  |  |  |\n",
    "|--|--|--|--|\n",
    "| dist_ratio_LHandEnd_head | dist_ratio_LWrist_head | dist_ratio_LElbow_head | dist_ratio_LShoulder_head |\n",
    "| dist_ratio_RHandEnd_head | dist_ratio_RWrist_head | dist_ratio_RElbow_head | dist_ratio_RShoulder_head |\n",
    "| dist_ratio_LHandEnd_spine5 | dist_ratio_LWrist_spine5 | dist_ratio_LElbow_spine5 | dist_ratio_LShoulder_spine5 |\n",
    "| dist_ratio_RHandEnd_spine5 | dist_ratio_RWrist_spine5 | dist_ratio_RElbow_spine5 | dist_ratio_RShoulder_spine5 |\n",
    "| dist_ratio_LHandEnd_spine4 | dist_ratio_LWrist_spine4 | dist_ratio_LElbow_spine4 | dist_ratio_LShoulder_spine4 |\n",
    "| dist_ratio_RHandEnd_spine4 | dist_ratio_RWrist_spine4 | dist_ratio_RElbow_spine4 | dist_ratio_RShoulder_spine4 |\n",
    "| dist_ratio_LAnkle_spine1 | dist_ratio_LKnee_spine1 | dist_ratio_LHip_spine1 | |\n",
    "| dist_ratio_RAnkle_spine1 | dist_ratio_RKnee_spine1 | dist_ratio_RHip_spine1 | |\n",
    "\n",
    "| Angles |  |  |\n",
    "|--|--|--|\n",
    "| angle_LHandEnd_LWrist_LElbow | angle_LWrist_LElbow_LShoulder | angle_LElbow_LShoulder_LClavicle |\n",
    "| angle_LShoulder_LClavicle_spine5 | angle_LClavicle_spine5_spine4 | angle_LClavicle_spine5_head |\n",
    "| angle_RHandEnd_RWrist_RElbow | angle_RWrist_RElbow_RShoulder | angle_RElbow_RShoulder_RClavicle |\n",
    "| angle_RShoulder_RClavicle_spine5 | angle_RClavicle_spine5_spine4 | angle_RClavicle_spine5_head |\n",
    "| angle_spine3_spine4_spine5 | angle_spine4_spine5_head |  |\n",
    "| angle_LToe_LAnkle_LKnee | angle_LAnkle_LKnee_LHip | angle_LKnee_LHip_spine1 |\n",
    "| angle_RToe_RAnkle_RKnee | angle_RAnkle_RKnee_RHip | angle_RKnee_RHip_spine1 |\n",
    "\n",
    "| Ratio of Change of Angles |  |  |\n",
    "|--|--|--|\n",
    "| angle_ratio_LHandEnd_LWrist_LElbow | angle_ratio_LWrist_LElbow_LShoulder | angle_ratio_LElbow_LShoulder_LClavicle |\n",
    "| angle_ratio_LShoulder_LClavicle_spine5 | angle_ratio_LClavicle_spine5_spine4 | angle_ratio_LClavicle_spine5_head |\n",
    "| angle_ratio_RHandEnd_RWrist_RElbow | angle_ratio_RWrist_RElbow_RShoulder | angle_ratio_RElbow_RShoulder_RClavicle |\n",
    "| angle_ratio_RShoulder_RClavicle_spine5 | angle_ratio_RClavicle_spine5_spine4 | angle_ratio_RClavicle_spine5_head |\n",
    "| angle_ratio_spine3_spine4_spine5 | angle_ratio_spine4_spine5_head |  |\n",
    "| angle_ratio_LToe_LAnkle_LKnee | angle_ratio_LAnkle_LKnee_LHip | angle_ratio_LKnee_LHip_spine1 |\n",
    "| angle_ratio_RToe_RAnkle_RKnee | angle_ratio_RAnkle_RKnee_RHip | angle_ratio_RKnee_RHip_spine1 |\n"
   ]
  },
  {
   "cell_type": "markdown",
   "metadata": {},
   "source": [
    "#### 3 Select the metrics to plot\n",
    "\n",
    "The metrics to be selected are:\n",
    "\n",
    "| Label | Metric | Description |\n",
    "|--|--|--|\n",
    "|0| mean | mean of specific feature in one window |\n",
    "|1| std | standard deviation of specific feature in one window |\n",
    "|2| top_max_mean | mean of N-highest maximum of specific feature in one window |\n",
    "|3| top_min_mean | mean of N-lowest minimum of specific feature in one window |\n",
    "|4| max_min_range | top_max_mean - top_min_mean |\n",
    "|5| kurtosis | (https://www.scribbr.com/statistics/kurtosis/#:~:text=Kurtosis%20is%20a%20measure%20of,(medium%20tails)%20are%20mesokurtic.) |\n",
    "|6| skewness | (https://www.scribbr.com/statistics/skewness/) |"
   ]
  },
  {
   "cell_type": "code",
   "execution_count": 20,
   "metadata": {},
   "outputs": [
    {
     "name": "stdout",
     "output_type": "stream",
     "text": [
      "act_index_dict: {'Walking': 1, 'Jumping': 2, 'Squating': 3, 'Waving': 4, 'Reaching': 5, 'Drinking': 6, 'Boxing': 7, 'Bicep': 8, 'JumpJack': 9}\n",
      "values: [1 2 3 4 5 6 7 8 9]\n",
      "starts: [    0  1170  2760  5130  6620  8320 10150 11850 15030]\n",
      "counts: [1170 1590 2370 1490 1700 1830 1700 3180 1890]\n",
      "-500 windows will be checked, in each window there are 100 features, each feature has 7 metrics\n",
      "act: Boxing, label_idx: 6\n",
      "upper limit of this act: 1700\n",
      "from 10850th window to 11350th window\n",
      "Batch of these windows have shape: (500, 700)\n",
      "Reshaped batch have shape: (500, 7, 100)\n"
     ]
    },
    {
     "data": {
      "image/png": "[encoded data removed]",
      "text/plain": [
       "<Figure size 800x600 with 1 Axes>"
      ]
     },
     "metadata": {},
     "output_type": "display_data"
    }
   ],
   "source": [
    "dd.plot_window_features(split_method_paths=['dataset/dynamic1_20230706/split_method.yaml',\n",
    "                                            'dataset/dynamic2_20230706/split_method.yaml',\n",
    "                                            'dataset/dynamic3_20230706/split_method.yaml'],\n",
    "                        which_activity=['Boxing'],\n",
    "                        win_range=[700,1200],\n",
    "                        which_feature=[\n",
    "#                                     'dist_ratio_LHandEnd_head',\n",
    "#                                        'dist_ratio_LWrist_head',\n",
    "#                                       'dist_ratio_LElbow_head',\n",
    "#                                       'dist_ratio_LShoulder_head',\n",
    "#                                         'dist_LHip_spine1',\n",
    "                            'dist_ratio_LHip_spine1'\n",
    "                        ],\n",
    "                        which_metric=[\n",
    "                                      'mean',\n",
    "#                                       'std',\n",
    "#                                       'top_max_mean',\n",
    "#                                       'top_min_mean',\n",
    "#                                       'max_min_range',\n",
    "#                                       'kurtosis',\n",
    "#                                       'skewness'\n",
    "                        ])"
   ]
  },
  {
   "cell_type": "code",
   "execution_count": 4,
   "metadata": {},
   "outputs": [
    {
     "name": "stdout",
     "output_type": "stream",
     "text": [
      "20.834999084472656\n",
      "-17.778596878051758\n",
      "0\n"
     ]
    }
   ],
   "source": [
    "import numpy as np\n",
    "print(dd.x_data_ori.max())\n",
    "print(dd.x_data_ori.min())\n",
    "print(np.count_nonzero(np.isnan(dd.x_data_ori)))"
   ]
  },
  {
   "cell_type": "code",
   "execution_count": 5,
   "metadata": {},
   "outputs": [
    {
     "name": "stdout",
     "output_type": "stream",
     "text": [
      "(16920, 100)\n",
      "(array([    0,     0,     0, ..., 16919, 16919, 16919]), array([26, 29, 56, ..., 70, 84, 90]))\n",
      "135360\n",
      "(16920, 100)\n",
      "(array([    0,     0,     0, ..., 16919, 16919, 16919]), array([26, 29, 56, ..., 70, 84, 90]))\n",
      "135360\n"
     ]
    }
   ],
   "source": [
    "kurtosis = dd.x_data[:,500:600]\n",
    "print(kurtosis.shape)\n",
    "print(np.where(np.isnan(kurtosis)))\n",
    "print(np.count_nonzero(np.isnan(kurtosis)))\n",
    "skewness = dd.x_data[:,600:]\n",
    "print(skewness.shape)\n",
    "print(np.where(np.isnan(skewness)))\n",
    "print(np.count_nonzero(np.isnan(skewness)))"
   ]
  },
  {
   "cell_type": "code",
   "execution_count": 10,
   "metadata": {},
   "outputs": [
    {
     "name": "stdout",
     "output_type": "stream",
     "text": [
      "(array([26, 29, 56, 59, 64, 70, 84, 90]),)\n",
      "(array([26, 29, 56, 59, 64, 70, 84, 90]),)\n",
      "(array([26, 29, 56, 59, 64, 70, 84, 90]),)\n"
     ]
    }
   ],
   "source": [
    "print(np.where(np.isnan(kurtosis[0])))\n",
    "print(np.where(np.isnan(kurtosis[2])))\n",
    "print(np.where(np.isnan(kurtosis[16919])))"
   ]
  },
  {
   "cell_type": "code",
   "execution_count": 12,
   "metadata": {},
   "outputs": [
    {
     "name": "stdout",
     "output_type": "stream",
     "text": [
      "(array([26, 29, 56, 59, 64, 70, 84, 90]),)\n",
      "(array([26, 29, 56, 59, 64, 70, 84, 90]),)\n",
      "(array([26, 29, 56, 59, 64, 70, 84, 90]),)\n"
     ]
    }
   ],
   "source": [
    "print(np.where(np.isnan(skewness[0])))\n",
    "print(np.where(np.isnan(skewness[2])))\n",
    "print(np.where(np.isnan(skewness[3700])))"
   ]
  },
  {
   "cell_type": "markdown",
   "metadata": {},
   "source": [
    "#### The features with Nan in kurtosis and skewness\n",
    "<font size=4>\n",
    "    \n",
    "The numbers of Nan-value in kurtosis and skewness are both 135360, and as shown above, the number of featuers with Nan in each window is the same, i.e. 8 features. 135360 / 8 = 16920, which means all windows have the same problem.\n",
    "    \n",
    "The features are shown below:\n",
    "    \n",
    "| feature index | feature name |\n",
    "|-------|--------------|\n",
    "| 26 | dist_LHip_spine1 |\n",
    "| 29 | dist_RHip_spine1 |\n",
    "| 56 | dist_ratio_LHip_spine1 |\n",
    "| 59 | dist_ratio_RHip_spine1 |\n",
    "| 64 | angle_LClavicle_spine5_spine4 |\n",
    "| 70 | angle_RClavicle_spine5_spine4 |\n",
    "| 84 | angle_ratio_LClavicle_spine5_spine4 |\n",
    "| 90 | angle_ratio_RClavicle_spine5_spine4 |\n",
    "    \n",
    "It is easy to understand the problem. If the mean and std of a group of data remains (including equals to 0), it means there is no change in data, which causes that kurtosis and skewness are calculated as Nan with sklearn.\n",
    "    \n",
    "<\\font>"
   ]
  },
  {
   "cell_type": "code",
   "execution_count": 25,
   "metadata": {},
   "outputs": [
    {
     "name": "stdout",
     "output_type": "stream",
     "text": [
      "[26, 29, 56, 59, 64, 70, 84, 90]\n"
     ]
    }
   ],
   "source": [
    "from util.features import get_feature_index\n",
    "print(get_feature_index(['dist_LHip_spine1',\n",
    "                         'dist_RHip_spine1',\n",
    "                         'dist_ratio_LHip_spine1',\n",
    "                         'dist_ratio_RHip_spine1',\n",
    "                        'angle_LClavicle_spine5_spine4',\n",
    "                        'angle_RClavicle_spine5_spine4',\n",
    "                        'angle_ratio_LClavicle_spine5_spine4',\n",
    "                        'angle_ratio_RClavicle_spine5_spine4']))"
   ]
  },
  {
   "cell_type": "code",
   "execution_count": null,
   "metadata": {},
   "outputs": [],
   "source": []
  }
 ],
 "metadata": {
  "kernelspec": {
   "display_name": "iaw",
   "language": "python",
   "name": "iaw"
  },
  "language_info": {
   "codemirror_mode": {
    "name": "ipython",
    "version": 3
   },
   "file_extension": ".py",
   "mimetype": "text/x-python",
   "name": "python",
   "nbconvert_exporter": "python",
   "pygments_lexer": "ipython3",
   "version": "3.11.3"
  },
  "varInspector": {
   "cols": {
    "lenName": 16,
    "lenType": 16,
    "lenVar": 40
   },
   "kernels_config": {
    "python": {
     "delete_cmd_postfix": "",
     "delete_cmd_prefix": "del ",
     "library": "var_list.py",
     "varRefreshCmd": "print(var_dic_list())"
    },
    "r": {
     "delete_cmd_postfix": ") ",
     "delete_cmd_prefix": "rm(",
     "library": "var_list.r",
     "varRefreshCmd": "cat(var_dic_list()) "
    }
   },
   "types_to_exclude": [
    "module",
    "function",
    "builtin_function_or_method",
    "instance",
    "_Feature"
   ],
   "window_display": false
  }
 },
 "nbformat": 4,
 "nbformat_minor": 2
}
