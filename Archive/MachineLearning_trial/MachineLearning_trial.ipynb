{
 "cells": [
  {
   "cell_type": "markdown",
   "metadata": {},
   "source": [
    "# Machine Learning Methods"
   ]
  },
  {
   "cell_type": "code",
   "execution_count": 1,
   "metadata": {},
   "outputs": [],
   "source": [
    "import numpy as np\n",
    "from sklearn.neighbors import KNeighborsClassifier\n",
    "from sklearn.ensemble import RandomForestClassifier\n",
    "from sklearn import svm\n",
    "import argparse"
   ]
  },
  {
   "cell_type": "markdown",
   "metadata": {},
   "source": [
    "## 1) Simple examples"
   ]
  },
  {
   "cell_type": "markdown",
   "metadata": {},
   "source": [
    "### 1. KNN\n",
    "<font size=2>\n",
    "\n",
    "Code reference:\n",
    "    \n",
    "https://scikit-learn.org/stable/modules/generated/sklearn.neighbors.KNeighborsClassifier.html\n",
    "    \n",
    "</font>"
   ]
  },
  {
   "cell_type": "code",
   "execution_count": 2,
   "metadata": {},
   "outputs": [
    {
     "data": {
      "text/html": [
       "<style>#sk-container-id-1 {color: black;background-color: white;}#sk-container-id-1 pre{padding: 0;}#sk-container-id-1 div.sk-toggleable {background-color: white;}#sk-container-id-1 label.sk-toggleable__label {cursor: pointer;display: block;width: 100%;margin-bottom: 0;padding: 0.3em;box-sizing: border-box;text-align: center;}#sk-container-id-1 label.sk-toggleable__label-arrow:before {content: \"▸\";float: left;margin-right: 0.25em;color: #696969;}#sk-container-id-1 label.sk-toggleable__label-arrow:hover:before {color: black;}#sk-container-id-1 div.sk-estimator:hover label.sk-toggleable__label-arrow:before {color: black;}#sk-container-id-1 div.sk-toggleable__content {max-height: 0;max-width: 0;overflow: hidden;text-align: left;background-color: #f0f8ff;}#sk-container-id-1 div.sk-toggleable__content pre {margin: 0.2em;color: black;border-radius: 0.25em;background-color: #f0f8ff;}#sk-container-id-1 input.sk-toggleable__control:checked~div.sk-toggleable__content {max-height: 200px;max-width: 100%;overflow: auto;}#sk-container-id-1 input.sk-toggleable__control:checked~label.sk-toggleable__label-arrow:before {content: \"▾\";}#sk-container-id-1 div.sk-estimator input.sk-toggleable__control:checked~label.sk-toggleable__label {background-color: #d4ebff;}#sk-container-id-1 div.sk-label input.sk-toggleable__control:checked~label.sk-toggleable__label {background-color: #d4ebff;}#sk-container-id-1 input.sk-hidden--visually {border: 0;clip: rect(1px 1px 1px 1px);clip: rect(1px, 1px, 1px, 1px);height: 1px;margin: -1px;overflow: hidden;padding: 0;position: absolute;width: 1px;}#sk-container-id-1 div.sk-estimator {font-family: monospace;background-color: #f0f8ff;border: 1px dotted black;border-radius: 0.25em;box-sizing: border-box;margin-bottom: 0.5em;}#sk-container-id-1 div.sk-estimator:hover {background-color: #d4ebff;}#sk-container-id-1 div.sk-parallel-item::after {content: \"\";width: 100%;border-bottom: 1px solid gray;flex-grow: 1;}#sk-container-id-1 div.sk-label:hover label.sk-toggleable__label {background-color: #d4ebff;}#sk-container-id-1 div.sk-serial::before {content: \"\";position: absolute;border-left: 1px solid gray;box-sizing: border-box;top: 0;bottom: 0;left: 50%;z-index: 0;}#sk-container-id-1 div.sk-serial {display: flex;flex-direction: column;align-items: center;background-color: white;padding-right: 0.2em;padding-left: 0.2em;position: relative;}#sk-container-id-1 div.sk-item {position: relative;z-index: 1;}#sk-container-id-1 div.sk-parallel {display: flex;align-items: stretch;justify-content: center;background-color: white;position: relative;}#sk-container-id-1 div.sk-item::before, #sk-container-id-1 div.sk-parallel-item::before {content: \"\";position: absolute;border-left: 1px solid gray;box-sizing: border-box;top: 0;bottom: 0;left: 50%;z-index: -1;}#sk-container-id-1 div.sk-parallel-item {display: flex;flex-direction: column;z-index: 1;position: relative;background-color: white;}#sk-container-id-1 div.sk-parallel-item:first-child::after {align-self: flex-end;width: 50%;}#sk-container-id-1 div.sk-parallel-item:last-child::after {align-self: flex-start;width: 50%;}#sk-container-id-1 div.sk-parallel-item:only-child::after {width: 0;}#sk-container-id-1 div.sk-dashed-wrapped {border: 1px dashed gray;margin: 0 0.4em 0.5em 0.4em;box-sizing: border-box;padding-bottom: 0.4em;background-color: white;}#sk-container-id-1 div.sk-label label {font-family: monospace;font-weight: bold;display: inline-block;line-height: 1.2em;}#sk-container-id-1 div.sk-label-container {text-align: center;}#sk-container-id-1 div.sk-container {/* jupyter's `normalize.less` sets `[hidden] { display: none; }` but bootstrap.min.css set `[hidden] { display: none !important; }` so we also need the `!important` here to be able to override the default hidden behavior on the sphinx rendered scikit-learn.org. See: https://github.com/scikit-learn/scikit-learn/issues/21755 */display: inline-block !important;position: relative;}#sk-container-id-1 div.sk-text-repr-fallback {display: none;}</style><div id=\"sk-container-id-1\" class=\"sk-top-container\"><div class=\"sk-text-repr-fallback\"><pre>KNeighborsClassifier(n_neighbors=1)</pre><b>In a Jupyter environment, please rerun this cell to show the HTML representation or trust the notebook. <br />On GitHub, the HTML representation is unable to render, please try loading this page with nbviewer.org.</b></div><div class=\"sk-container\" hidden><div class=\"sk-item\"><div class=\"sk-estimator sk-toggleable\"><input class=\"sk-toggleable__control sk-hidden--visually\" id=\"sk-estimator-id-1\" type=\"checkbox\" checked><label for=\"sk-estimator-id-1\" class=\"sk-toggleable__label sk-toggleable__label-arrow\">KNeighborsClassifier</label><div class=\"sk-toggleable__content\"><pre>KNeighborsClassifier(n_neighbors=1)</pre></div></div></div></div></div>"
      ],
      "text/plain": [
       "KNeighborsClassifier(n_neighbors=1)"
      ]
     },
     "execution_count": 2,
     "metadata": {},
     "output_type": "execute_result"
    }
   ],
   "source": [
    "X = np.array([[0,0,0], [0,0,1], [0,1,0],\n",
    "              [20,20,20], [19,19,19],[20,21,18]])\n",
    "y = np.array([0, 0, 0,\n",
    "              1, 1, 1])\n",
    "neigh = KNeighborsClassifier(n_neighbors=1)\n",
    "neigh.fit(X, y)"
   ]
  },
  {
   "cell_type": "code",
   "execution_count": 3,
   "metadata": {},
   "outputs": [
    {
     "name": "stdout",
     "output_type": "stream",
     "text": [
      "[0 1 1]\n",
      "[[1. 0.]\n",
      " [0. 1.]\n",
      " [0. 1.]]\n"
     ]
    }
   ],
   "source": [
    "print(neigh.predict([[9,9,9],[13,13,13],[18,18,18]]))\n",
    "print(neigh.predict_proba([[9,9,9],[13,13,13],[18,18,18]]))"
   ]
  },
  {
   "cell_type": "markdown",
   "metadata": {},
   "source": [
    "### 2. Random Forest\n",
    "<font size=2>\n",
    "\n",
    "Random Forest is a popular machine learning algorithm used for classification tasks. It is an ensemble learning method that combines the predictions of multiple decision trees to make more accurate predictions.\n",
    "\n",
    "1. Building the forest:\n",
    "    \n",
    "The algorithm starts by creating an ensemble of decision trees. The number of trees is a user-defined parameter.\n",
    "\n",
    "2. Random feature selection:\n",
    "    \n",
    "At each node of every decision tree, a random subset of features is considered for splitting. This helps to introduce randomness and reduce the correlation between trees.\n",
    "\n",
    "3. Growing decision trees:\n",
    "    \n",
    "Each decision tree is grown by recursively partitioning the data based on the selected features. The splitting is done based on certain criteria, typically using measures like Gini impurity or entropy, to find the best feature and split point that maximizes the separation of classes.\n",
    "\n",
    "4. Voting for predictions:\n",
    "    \n",
    "Once all the decision trees are constructed, predictions are made by each tree individually. For classification, the class label that receives the majority of votes from the trees is chosen as the final prediction.\n",
    "\n",
    "<br>\n",
    "    \n",
    "Random Forest has several **advantages**:\n",
    "\n",
    "It is robust against overfitting because the randomness introduced during feature selection and tree construction helps to reduce variance.\n",
    "It can handle large datasets with a high number of features.\n",
    "It provides estimates of feature importance, allowing for insights into the relative significance of different features in the classification task.\n",
    "    \n",
    "<br>\n",
    "    \n",
    "Code reference:\n",
    "    \n",
    "https://scikit-learn.org/stable/modules/generated/sklearn.ensemble.RandomForestClassifier.html\n",
    "    \n",
    "</font>"
   ]
  },
  {
   "cell_type": "code",
   "execution_count": 4,
   "metadata": {},
   "outputs": [
    {
     "data": {
      "text/html": [
       "<style>#sk-container-id-2 {color: black;background-color: white;}#sk-container-id-2 pre{padding: 0;}#sk-container-id-2 div.sk-toggleable {background-color: white;}#sk-container-id-2 label.sk-toggleable__label {cursor: pointer;display: block;width: 100%;margin-bottom: 0;padding: 0.3em;box-sizing: border-box;text-align: center;}#sk-container-id-2 label.sk-toggleable__label-arrow:before {content: \"▸\";float: left;margin-right: 0.25em;color: #696969;}#sk-container-id-2 label.sk-toggleable__label-arrow:hover:before {color: black;}#sk-container-id-2 div.sk-estimator:hover label.sk-toggleable__label-arrow:before {color: black;}#sk-container-id-2 div.sk-toggleable__content {max-height: 0;max-width: 0;overflow: hidden;text-align: left;background-color: #f0f8ff;}#sk-container-id-2 div.sk-toggleable__content pre {margin: 0.2em;color: black;border-radius: 0.25em;background-color: #f0f8ff;}#sk-container-id-2 input.sk-toggleable__control:checked~div.sk-toggleable__content {max-height: 200px;max-width: 100%;overflow: auto;}#sk-container-id-2 input.sk-toggleable__control:checked~label.sk-toggleable__label-arrow:before {content: \"▾\";}#sk-container-id-2 div.sk-estimator input.sk-toggleable__control:checked~label.sk-toggleable__label {background-color: #d4ebff;}#sk-container-id-2 div.sk-label input.sk-toggleable__control:checked~label.sk-toggleable__label {background-color: #d4ebff;}#sk-container-id-2 input.sk-hidden--visually {border: 0;clip: rect(1px 1px 1px 1px);clip: rect(1px, 1px, 1px, 1px);height: 1px;margin: -1px;overflow: hidden;padding: 0;position: absolute;width: 1px;}#sk-container-id-2 div.sk-estimator {font-family: monospace;background-color: #f0f8ff;border: 1px dotted black;border-radius: 0.25em;box-sizing: border-box;margin-bottom: 0.5em;}#sk-container-id-2 div.sk-estimator:hover {background-color: #d4ebff;}#sk-container-id-2 div.sk-parallel-item::after {content: \"\";width: 100%;border-bottom: 1px solid gray;flex-grow: 1;}#sk-container-id-2 div.sk-label:hover label.sk-toggleable__label {background-color: #d4ebff;}#sk-container-id-2 div.sk-serial::before {content: \"\";position: absolute;border-left: 1px solid gray;box-sizing: border-box;top: 0;bottom: 0;left: 50%;z-index: 0;}#sk-container-id-2 div.sk-serial {display: flex;flex-direction: column;align-items: center;background-color: white;padding-right: 0.2em;padding-left: 0.2em;position: relative;}#sk-container-id-2 div.sk-item {position: relative;z-index: 1;}#sk-container-id-2 div.sk-parallel {display: flex;align-items: stretch;justify-content: center;background-color: white;position: relative;}#sk-container-id-2 div.sk-item::before, #sk-container-id-2 div.sk-parallel-item::before {content: \"\";position: absolute;border-left: 1px solid gray;box-sizing: border-box;top: 0;bottom: 0;left: 50%;z-index: -1;}#sk-container-id-2 div.sk-parallel-item {display: flex;flex-direction: column;z-index: 1;position: relative;background-color: white;}#sk-container-id-2 div.sk-parallel-item:first-child::after {align-self: flex-end;width: 50%;}#sk-container-id-2 div.sk-parallel-item:last-child::after {align-self: flex-start;width: 50%;}#sk-container-id-2 div.sk-parallel-item:only-child::after {width: 0;}#sk-container-id-2 div.sk-dashed-wrapped {border: 1px dashed gray;margin: 0 0.4em 0.5em 0.4em;box-sizing: border-box;padding-bottom: 0.4em;background-color: white;}#sk-container-id-2 div.sk-label label {font-family: monospace;font-weight: bold;display: inline-block;line-height: 1.2em;}#sk-container-id-2 div.sk-label-container {text-align: center;}#sk-container-id-2 div.sk-container {/* jupyter's `normalize.less` sets `[hidden] { display: none; }` but bootstrap.min.css set `[hidden] { display: none !important; }` so we also need the `!important` here to be able to override the default hidden behavior on the sphinx rendered scikit-learn.org. See: https://github.com/scikit-learn/scikit-learn/issues/21755 */display: inline-block !important;position: relative;}#sk-container-id-2 div.sk-text-repr-fallback {display: none;}</style><div id=\"sk-container-id-2\" class=\"sk-top-container\"><div class=\"sk-text-repr-fallback\"><pre>RandomForestClassifier(max_depth=2, random_state=0)</pre><b>In a Jupyter environment, please rerun this cell to show the HTML representation or trust the notebook. <br />On GitHub, the HTML representation is unable to render, please try loading this page with nbviewer.org.</b></div><div class=\"sk-container\" hidden><div class=\"sk-item\"><div class=\"sk-estimator sk-toggleable\"><input class=\"sk-toggleable__control sk-hidden--visually\" id=\"sk-estimator-id-2\" type=\"checkbox\" checked><label for=\"sk-estimator-id-2\" class=\"sk-toggleable__label sk-toggleable__label-arrow\">RandomForestClassifier</label><div class=\"sk-toggleable__content\"><pre>RandomForestClassifier(max_depth=2, random_state=0)</pre></div></div></div></div></div>"
      ],
      "text/plain": [
       "RandomForestClassifier(max_depth=2, random_state=0)"
      ]
     },
     "execution_count": 4,
     "metadata": {},
     "output_type": "execute_result"
    }
   ],
   "source": [
    "X = np.array([[0,0,0], [0,0,1], [0,1,0],\n",
    "              [20,20,20], [19,19,19],[20,21,18]])\n",
    "y = np.array([0, 0, 0,\n",
    "              1, 1, 1])\n",
    "clf = RandomForestClassifier(max_depth=2, random_state=0)\n",
    "clf.fit(X, y)"
   ]
  },
  {
   "cell_type": "code",
   "execution_count": 5,
   "metadata": {},
   "outputs": [
    {
     "name": "stdout",
     "output_type": "stream",
     "text": [
      "[0 0 1]\n",
      "[[0.98 0.02]\n",
      " [0.52 0.48]\n",
      " [0.   1.  ]]\n"
     ]
    }
   ],
   "source": [
    "print(clf.predict([[9,9,9],[10,10,10],[13,13,13]]))\n",
    "print(clf.predict_proba([[9,9,9],[10,10,10],[13,13,13]]))"
   ]
  },
  {
   "cell_type": "markdown",
   "metadata": {},
   "source": [
    "### 3. SVM\n",
    "<font size=2>\n",
    "\n",
    "Code reference:\n",
    "    \n",
    "https://scikit-learn.org/stable/modules/svm.html\n",
    "    \n",
    "</font>"
   ]
  },
  {
   "cell_type": "code",
   "execution_count": 6,
   "metadata": {},
   "outputs": [
    {
     "data": {
      "text/html": [
       "<style>#sk-container-id-3 {color: black;background-color: white;}#sk-container-id-3 pre{padding: 0;}#sk-container-id-3 div.sk-toggleable {background-color: white;}#sk-container-id-3 label.sk-toggleable__label {cursor: pointer;display: block;width: 100%;margin-bottom: 0;padding: 0.3em;box-sizing: border-box;text-align: center;}#sk-container-id-3 label.sk-toggleable__label-arrow:before {content: \"▸\";float: left;margin-right: 0.25em;color: #696969;}#sk-container-id-3 label.sk-toggleable__label-arrow:hover:before {color: black;}#sk-container-id-3 div.sk-estimator:hover label.sk-toggleable__label-arrow:before {color: black;}#sk-container-id-3 div.sk-toggleable__content {max-height: 0;max-width: 0;overflow: hidden;text-align: left;background-color: #f0f8ff;}#sk-container-id-3 div.sk-toggleable__content pre {margin: 0.2em;color: black;border-radius: 0.25em;background-color: #f0f8ff;}#sk-container-id-3 input.sk-toggleable__control:checked~div.sk-toggleable__content {max-height: 200px;max-width: 100%;overflow: auto;}#sk-container-id-3 input.sk-toggleable__control:checked~label.sk-toggleable__label-arrow:before {content: \"▾\";}#sk-container-id-3 div.sk-estimator input.sk-toggleable__control:checked~label.sk-toggleable__label {background-color: #d4ebff;}#sk-container-id-3 div.sk-label input.sk-toggleable__control:checked~label.sk-toggleable__label {background-color: #d4ebff;}#sk-container-id-3 input.sk-hidden--visually {border: 0;clip: rect(1px 1px 1px 1px);clip: rect(1px, 1px, 1px, 1px);height: 1px;margin: -1px;overflow: hidden;padding: 0;position: absolute;width: 1px;}#sk-container-id-3 div.sk-estimator {font-family: monospace;background-color: #f0f8ff;border: 1px dotted black;border-radius: 0.25em;box-sizing: border-box;margin-bottom: 0.5em;}#sk-container-id-3 div.sk-estimator:hover {background-color: #d4ebff;}#sk-container-id-3 div.sk-parallel-item::after {content: \"\";width: 100%;border-bottom: 1px solid gray;flex-grow: 1;}#sk-container-id-3 div.sk-label:hover label.sk-toggleable__label {background-color: #d4ebff;}#sk-container-id-3 div.sk-serial::before {content: \"\";position: absolute;border-left: 1px solid gray;box-sizing: border-box;top: 0;bottom: 0;left: 50%;z-index: 0;}#sk-container-id-3 div.sk-serial {display: flex;flex-direction: column;align-items: center;background-color: white;padding-right: 0.2em;padding-left: 0.2em;position: relative;}#sk-container-id-3 div.sk-item {position: relative;z-index: 1;}#sk-container-id-3 div.sk-parallel {display: flex;align-items: stretch;justify-content: center;background-color: white;position: relative;}#sk-container-id-3 div.sk-item::before, #sk-container-id-3 div.sk-parallel-item::before {content: \"\";position: absolute;border-left: 1px solid gray;box-sizing: border-box;top: 0;bottom: 0;left: 50%;z-index: -1;}#sk-container-id-3 div.sk-parallel-item {display: flex;flex-direction: column;z-index: 1;position: relative;background-color: white;}#sk-container-id-3 div.sk-parallel-item:first-child::after {align-self: flex-end;width: 50%;}#sk-container-id-3 div.sk-parallel-item:last-child::after {align-self: flex-start;width: 50%;}#sk-container-id-3 div.sk-parallel-item:only-child::after {width: 0;}#sk-container-id-3 div.sk-dashed-wrapped {border: 1px dashed gray;margin: 0 0.4em 0.5em 0.4em;box-sizing: border-box;padding-bottom: 0.4em;background-color: white;}#sk-container-id-3 div.sk-label label {font-family: monospace;font-weight: bold;display: inline-block;line-height: 1.2em;}#sk-container-id-3 div.sk-label-container {text-align: center;}#sk-container-id-3 div.sk-container {/* jupyter's `normalize.less` sets `[hidden] { display: none; }` but bootstrap.min.css set `[hidden] { display: none !important; }` so we also need the `!important` here to be able to override the default hidden behavior on the sphinx rendered scikit-learn.org. See: https://github.com/scikit-learn/scikit-learn/issues/21755 */display: inline-block !important;position: relative;}#sk-container-id-3 div.sk-text-repr-fallback {display: none;}</style><div id=\"sk-container-id-3\" class=\"sk-top-container\"><div class=\"sk-text-repr-fallback\"><pre>SVC()</pre><b>In a Jupyter environment, please rerun this cell to show the HTML representation or trust the notebook. <br />On GitHub, the HTML representation is unable to render, please try loading this page with nbviewer.org.</b></div><div class=\"sk-container\" hidden><div class=\"sk-item\"><div class=\"sk-estimator sk-toggleable\"><input class=\"sk-toggleable__control sk-hidden--visually\" id=\"sk-estimator-id-3\" type=\"checkbox\" checked><label for=\"sk-estimator-id-3\" class=\"sk-toggleable__label sk-toggleable__label-arrow\">SVC</label><div class=\"sk-toggleable__content\"><pre>SVC()</pre></div></div></div></div></div>"
      ],
      "text/plain": [
       "SVC()"
      ]
     },
     "execution_count": 6,
     "metadata": {},
     "output_type": "execute_result"
    }
   ],
   "source": [
    "X = np.array([[0,0,0], [0,0,1], [0,1,0],\n",
    "              [20,20,20], [19,19,19],[20,21,18]])\n",
    "y = np.array([0, 0, 0,\n",
    "              1, 1, 1])\n",
    "from sklearn import svm\n",
    "clf = svm.SVC()\n",
    "clf.fit(X, y)"
   ]
  },
  {
   "cell_type": "code",
   "execution_count": 7,
   "metadata": {},
   "outputs": [
    {
     "name": "stdout",
     "output_type": "stream",
     "text": [
      "[0 1 1]\n"
     ]
    }
   ],
   "source": [
    "print(clf.predict([[9,9,9],[10,10,10],[13,13,13]]))\n",
    "# print(clf.predict_proba([[9,9,9],[10,10,10],[13,13,13]]))"
   ]
  },
  {
   "cell_type": "markdown",
   "metadata": {},
   "source": [
    "## 2) Sample from Captury Live"
   ]
  },
  {
   "cell_type": "code",
   "execution_count": 8,
   "metadata": {},
   "outputs": [],
   "source": [
    "class Classification():\n",
    "    \n",
    "    def __init__(self,Dataset_Path,Train_Len,Test_Len):\n",
    "        self.get_data(dataset_path=Dataset_Path,train_len=Train_Len,test_len=Test_Len)\n",
    "\n",
    "    def get_data(self,dataset_path,train_len=10000,test_len=200):\n",
    "        # load data\n",
    "        x_data_path, y_data_path = dataset_path[0], dataset_path[1]\n",
    "        with open(x_data_path, 'rb') as xf:\n",
    "            x_data = np.load(xf)\n",
    "        with open(y_data_path, 'rb') as yf:\n",
    "            y_data = np.load(yf)\n",
    "        # define length for trainset and testset\n",
    "        self.Train_Len = train_len\n",
    "        self.Test_Len = test_len\n",
    "        # randomly select train samples\n",
    "        choices_train = np.random.randint(x_data.shape[0], size = self.Train_Len)\n",
    "        self.x_train = x_data[choices_train]\n",
    "        self.y_train = y_data[choices_train]\n",
    "        # delete train samples for test samples\n",
    "        new_x_data = np.delete(x_data, choices_train, axis=0)\n",
    "        new_y_data = np.delete(y_data, choices_train, axis=0)\n",
    "        print(f'x_train shape: {self.x_train.shape}')\n",
    "        print(f'y_train shape: {self.y_train.shape}')\n",
    "        # randomly select test samples\n",
    "        choices_test = np.random.randint(new_x_data.shape[0], size = self.Test_Len)\n",
    "        self.x_test = new_x_data[choices_test]\n",
    "        self.y_test = new_y_data[choices_test]\n",
    "        print(f'x_test shape: {self.x_test.shape}')\n",
    "        print(f'y_test shape: {self.y_test.shape}')\n",
    "        print()\n",
    "        \n",
    "class KNN(Classification):\n",
    "    \n",
    "    def __init__(self,N_neighbor,Dataset_Path,Train_Len,Test_Len):\n",
    "        super(KNN, self).__init__(Dataset_Path,Train_Len,Test_Len)\n",
    "        self.neigh = KNeighborsClassifier(n_neighbors=N_neighbor)\n",
    "        \n",
    "    def train(self):\n",
    "        self.neigh.fit(self.x_train, self.y_train)\n",
    "        \n",
    "    def test(self):\n",
    "        self.P_pred = self.neigh.predict_proba(self.x_test)\n",
    "        self.T_pred = self.neigh.predict(self.x_test)\n",
    "        \n",
    "class RandomForest(Classification):\n",
    "    \n",
    "    def __init__(self,Max_Depth,Random_State,Dataset_Path,Train_Len,Test_Len):\n",
    "        super(RandomForest, self).__init__(Dataset_Path,Train_Len,Test_Len)\n",
    "        self.random_forest = RandomForestClassifier(max_depth=Max_Depth, random_state=Random_State)\n",
    "        \n",
    "    def train(self):\n",
    "        self.random_forest.fit(self.x_train, self.y_train)\n",
    "        \n",
    "    def test(self):\n",
    "        self.P_pred = self.random_forest.predict_proba(self.x_test)\n",
    "        self.T_pred = self.random_forest.predict(self.x_test)\n",
    "        \n",
    "class SVM(Classification):\n",
    "    \n",
    "    def __init__(self,Dataset_Path,Train_Len,Test_Len):\n",
    "        super(SVM, self).__init__(Dataset_Path,Train_Len,Test_Len)\n",
    "        self.svm = svm.SVC()\n",
    "        \n",
    "    def train(self):\n",
    "        self.svm.fit(self.x_train, self.y_train)\n",
    "        \n",
    "    def test(self):\n",
    "        self.T_pred = self.svm.predict(self.x_test)"
   ]
  },
  {
   "cell_type": "code",
   "execution_count": 77,
   "metadata": {},
   "outputs": [
    {
     "name": "stdout",
     "output_type": "stream",
     "text": [
      "x_train shape: (10, 50)\n",
      "y_train shape: (10,)\n",
      "x_test shape: (100, 50)\n",
      "y_test shape: (100,)\n",
      "\n",
      "Result on SVM:\n",
      "predicted target: [2 2 2 2 2 2 2 2 2 2 2 2 2 2 2 2 2 2 2 2 2 2 2 2 2 2 2 2 2 2 2 2 2 2 2 2 2\n",
      " 2 2 2 2 2 2 2 2 2 2 2 2 2 2 2 2 2 2 2 2 2 2 2 2 2 2 2 2 2 2 2 2 2 2 2 2 2\n",
      " 2 2 2 2 2 2 2 2 2 2 2 2 2 2 2 2 2 2 2 2 2 2 2 2 2 2]\n",
      "true target: [2 4 2 3 4 3 4 1 5 5 5 5 4 4 3 5 2 5 2 5 1 2 5 3 4 1 3 1 1 2 1 5 4 2 3 4 2\n",
      " 5 3 3 3 2 1 1 4 3 3 5 3 4 4 3 5 4 4 5 3 5 4 1 5 4 5 5 4 3 2 5 3 1 2 2 1 2\n",
      " 1 3 4 2 2 3 1 5 1 5 2 2 5 4 3 1 3 2 4 3 3 3 1 5 2 1]\n",
      "Accuracy = 0.19\n",
      "Result: [ True False  True False False False False False False False False False\n",
      " False False False False  True False  True False False  True False False\n",
      " False False False False False  True False False False  True False False\n",
      "  True False False False False  True False False False False False False\n",
      " False False False False False False False False False False False False\n",
      " False False False False False False  True False False False  True  True\n",
      " False  True False False False  True  True False False False False False\n",
      "  True  True False False False False False  True False False False False\n",
      " False False  True False]\n"
     ]
    }
   ],
   "source": [
    "if __name__ == '__main__':\n",
    "    ###### get parameters ######\n",
    "    parser = argparse.ArgumentParser(description='Machine learning method on classification of human activities from skeleton data')\n",
    "    # general arguments\n",
    "    parser.add_argument('--dataset_path', type=list, default=['x_data_UpperLowerBody.npy','y_data_UpperLowerBody.npy'], help='path of dataset', \n",
    "                        choices=[\n",
    "                            ['x_data_UpperLowerBody.npy','y_data_UpperLowerBody.npy'],\n",
    "                            ['x_data_UpperBody.npy','y_data_UpperBody.npy']\n",
    "                        ])\n",
    "    parser.add_argument('--model', type=str, default='SVM', choices=['KNN','RandomForest','SVM'])\n",
    "    parser.add_argument('--train_len', type=int, default=10, help='length of train set')\n",
    "    parser.add_argument('--test_len', type=int, default=100, help='length of test set')\n",
    "    # for KNN\n",
    "    parser.add_argument('--n_neighbor', type=int, default=1, help='number of neighbours, only for KNN')\n",
    "    # for RandomForest\n",
    "    parser.add_argument('--max_depth', type=int, default=2, help='max depth for random forest')\n",
    "    parser.add_argument('--random_state', type=int, default=0, help='random state for random forest')\n",
    "    \n",
    "    args = parser.parse_args([])\n",
    "    \n",
    "    if args.model == 'KNN':\n",
    "        cls_model = KNN(N_neighbor=args.n_neighbor,\n",
    "                        Dataset_Path=args.dataset_path,\n",
    "                        Train_Len=args.train_len,Test_Len=args.test_len)\n",
    "        \n",
    "    elif args.model == 'RandomForest':\n",
    "        cls_model = RandomForest(Max_Depth=args.max_depth,Random_State=args.random_state,\n",
    "                                 Dataset_Path=args.dataset_path,\n",
    "                                 Train_Len=args.train_len,Test_Len=args.test_len)\n",
    "        \n",
    "    elif args.model == 'SVM':\n",
    "        cls_model = SVM(Dataset_Path=args.dataset_path,\n",
    "                              Train_Len=args.train_len,Test_Len=args.test_len)\n",
    "        \n",
    "    cls_model.train()\n",
    "    cls_model.test()\n",
    "    print(f'Result on {args.model}:')\n",
    "    print(f'predicted target: {cls_model.T_pred}')\n",
    "    if args.model == 'KNN' or args.model == 'RandomForest':\n",
    "        print(f'probability of predicted target: {cls_model.P_pred}')\n",
    "    print(f'true target: {cls_model.y_test}')\n",
    "    print(f'Accuracy = {np.sum(cls_model.T_pred == cls_model.y_test) / len(cls_model.T_pred)}')\n",
    "    print(f'Result: {cls_model.T_pred == cls_model.y_test}')"
   ]
  },
  {
   "cell_type": "code",
   "execution_count": null,
   "metadata": {},
   "outputs": [],
   "source": []
  }
 ],
 "metadata": {
  "kernelspec": {
   "display_name": "iaw",
   "language": "python",
   "name": "iaw"
  },
  "language_info": {
   "codemirror_mode": {
    "name": "ipython",
    "version": 3
   },
   "file_extension": ".py",
   "mimetype": "text/x-python",
   "name": "python",
   "nbconvert_exporter": "python",
   "pygments_lexer": "ipython3",
   "version": "3.11.3"
  },
  "varInspector": {
   "cols": {
    "lenName": 16,
    "lenType": 16,
    "lenVar": 40
   },
   "kernels_config": {
    "python": {
     "delete_cmd_postfix": "",
     "delete_cmd_prefix": "del ",
     "library": "var_list.py",
     "varRefreshCmd": "print(var_dic_list())"
    },
    "r": {
     "delete_cmd_postfix": ") ",
     "delete_cmd_prefix": "rm(",
     "library": "var_list.r",
     "varRefreshCmd": "cat(var_dic_list()) "
    }
   },
   "types_to_exclude": [
    "module",
    "function",
    "builtin_function_or_method",
    "instance",
    "_Feature"
   ],
   "window_display": false
  }
 },
 "nbformat": 4,
 "nbformat_minor": 2
}
