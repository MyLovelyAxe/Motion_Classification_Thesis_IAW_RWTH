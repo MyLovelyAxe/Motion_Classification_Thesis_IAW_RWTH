{
 "cells": [
  {
   "cell_type": "code",
   "execution_count": null,
   "metadata": {},
   "outputs": [],
   "source": [
    "from dataloader.ML_dataloader import DynamicData"
   ]
  },
  {
   "cell_type": "code",
   "execution_count": null,
   "metadata": {},
   "outputs": [],
   "source": [
    "dd = DynamicData(window_size=250,\n",
    "                trainset_path=['dataset/dynamic_dataset/x_data_UpperLowerBody.npy',\n",
    "                                'dataset/dynamic_dataset/y_data_UpperLowerBody.npy'],\n",
    "                testset_path=None,\n",
    "                split_ratio=0.8,\n",
    "                split_method_paths=['dataset/dynamic1_20230706/split_method.yaml',\n",
    "                                    'dataset/dynamic2_20230706/split_method.yaml',\n",
    "                                    'dataset/dynamic3_20230706/split_method.yaml'],\n",
    "                # trial=True\n",
    "                )"
   ]
  },
  {
   "cell_type": "code",
   "execution_count": null,
   "metadata": {},
   "outputs": [],
   "source": [
    "dd.plot_window_features(split_method_paths=['dataset/dynamic1_20230706/split_method.yaml',\n",
    "                                            'dataset/dynamic2_20230706/split_method.yaml',\n",
    "                                            'dataset/dynamic3_20230706/split_method.yaml'],\n",
    "                        which_activity=['Bicep'],\n",
    "                        win_range=[0,1890],\n",
    "                        which_feature=[\n",
    "#                                     'dist_ratio_LHandEnd_head',\n",
    "#                                        'dist_ratio_LWrist_head',\n",
    "#                                       'dist_ratio_LElbow_head',\n",
    "                                      'dist_ratio_LShoulder_head',\n",
    "                            'angle_LAnkle_LKnee_LHip'\n",
    "                        ],\n",
    "                        which_metric=[\n",
    "#                                       'mean',\n",
    "#                                       'std',\n",
    "#                                       'top_max_mean',\n",
    "#                                       'top_min_mean',\n",
    "#                                       'max_min_range',\n",
    "                                      'kurtosis',\n",
    "#                                       'skewness'\n",
    "                        ])"
   ]
  },
  {
   "cell_type": "markdown",
   "metadata": {},
   "source": [
    "#### The features with Nan in kurtosis and skewness\n",
    "<font size=4>\n",
    "    \n",
    "The numbers of Nan-value in kurtosis and skewness are both 135360, and as shown above, the number of featuers with Nan in each window is the same, i.e. 8 features. 135360 / 8 = 16920, which means all windows have the same problem.\n",
    "    \n",
    "The features are shown below:\n",
    "    \n",
    "| feature index | feature name |\n",
    "|-------|--------------|\n",
    "| 26 | dist_LHip_spine1 |\n",
    "| 29 | dist_RHip_spine1 |\n",
    "| 56 | dist_ratio_LHip_spine1 |\n",
    "| 59 | dist_ratio_RHip_spine1 |\n",
    "| 64 | angle_LClavicle_spine5_spine4 |\n",
    "| 70 | angle_RClavicle_spine5_spine4 |\n",
    "| 84 | angle_ratio_LClavicle_spine5_spine4 |\n",
    "| 90 | angle_ratio_RClavicle_spine5_spine4 |\n",
    "    \n",
    "It is easy to understand the problem. If the mean and std of a group of data remains (including equals to 0), it means there is no change in data, which causes that kurtosis and skewness are calculated as Nan with sklearn.\n",
    "    \n",
    "<\\font>"
   ]
  },
  {
   "cell_type": "code",
   "execution_count": null,
   "metadata": {},
   "outputs": [],
   "source": [
    "from util.features import get_feature_index\n",
    "print(get_feature_index(['dist_LHip_spine1',\n",
    "                         'dist_RHip_spine1',\n",
    "                         'dist_ratio_LHip_spine1',\n",
    "                         'dist_ratio_RHip_spine1',\n",
    "                        'angle_LClavicle_spine5_spine4',\n",
    "                        'angle_RClavicle_spine5_spine4',\n",
    "                        'angle_ratio_LClavicle_spine5_spine4',\n",
    "                        'angle_ratio_RClavicle_spine5_spine4']))"
   ]
  }
 ],
 "metadata": {
  "language_info": {
   "name": "python"
  },
  "orig_nbformat": 4
 },
 "nbformat": 4,
 "nbformat_minor": 2
}
